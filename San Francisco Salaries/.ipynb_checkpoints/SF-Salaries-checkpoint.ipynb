{
 "cells": [
  {
   "cell_type": "markdown",
   "metadata": {},
   "source": [
    "<img src=\"../igor-matheus.png\" style=\"display:block;margin-left:auto;margin-right:auto;\"></img>"
   ]
  },
  {
   "cell_type": "markdown",
   "metadata": {},
   "source": [
    "# San Francisco Salaries Dataset\n",
    "\n",
    "<p style=\"text-align:justify\">One way to understand how a city government works is by looking at who it employs and how its employees are compensated. This data contains the names, job title, and compensation for San Francisco city employees on an annual basis from 2011 to 2014. <a href=\"https://www.kaggle.com/kaggle/sf-salaries/version/2\">Get this dataset on Kaggle!</a></p>"
   ]
  },
  {
   "cell_type": "code",
   "execution_count": 1,
   "metadata": {},
   "outputs": [],
   "source": [
    "import numpy             as np\n",
    "import pandas            as pd\n",
    "import matplotlib.pyplot as plt\n",
    "import seaborn           as sns"
   ]
  },
  {
   "cell_type": "markdown",
   "metadata": {},
   "source": [
    "## Data import:"
   ]
  },
  {
   "cell_type": "code",
   "execution_count": 2,
   "metadata": {},
   "outputs": [],
   "source": [
    "data = pd.read_csv(\"Salaries.csv\",low_memory=False,index_col=\"Id\")"
   ]
  },
  {
   "cell_type": "code",
   "execution_count": 3,
   "metadata": {},
   "outputs": [
    {
     "data": {
      "text/html": [
       "<div>\n",
       "<style scoped>\n",
       "    .dataframe tbody tr th:only-of-type {\n",
       "        vertical-align: middle;\n",
       "    }\n",
       "\n",
       "    .dataframe tbody tr th {\n",
       "        vertical-align: top;\n",
       "    }\n",
       "\n",
       "    .dataframe thead th {\n",
       "        text-align: right;\n",
       "    }\n",
       "</style>\n",
       "<table border=\"1\" class=\"dataframe\">\n",
       "  <thead>\n",
       "    <tr style=\"text-align: right;\">\n",
       "      <th></th>\n",
       "      <th>EmployeeName</th>\n",
       "      <th>JobTitle</th>\n",
       "      <th>BasePay</th>\n",
       "      <th>OvertimePay</th>\n",
       "      <th>OtherPay</th>\n",
       "      <th>Benefits</th>\n",
       "      <th>TotalPay</th>\n",
       "      <th>TotalPayBenefits</th>\n",
       "      <th>Year</th>\n",
       "      <th>Notes</th>\n",
       "      <th>Agency</th>\n",
       "      <th>Status</th>\n",
       "    </tr>\n",
       "    <tr>\n",
       "      <th>Id</th>\n",
       "      <th></th>\n",
       "      <th></th>\n",
       "      <th></th>\n",
       "      <th></th>\n",
       "      <th></th>\n",
       "      <th></th>\n",
       "      <th></th>\n",
       "      <th></th>\n",
       "      <th></th>\n",
       "      <th></th>\n",
       "      <th></th>\n",
       "      <th></th>\n",
       "    </tr>\n",
       "  </thead>\n",
       "  <tbody>\n",
       "    <tr>\n",
       "      <th>1</th>\n",
       "      <td>NATHANIEL FORD</td>\n",
       "      <td>GENERAL MANAGER-METROPOLITAN TRANSIT AUTHORITY</td>\n",
       "      <td>167411.18</td>\n",
       "      <td>0.0</td>\n",
       "      <td>400184.25</td>\n",
       "      <td>NaN</td>\n",
       "      <td>567595.43</td>\n",
       "      <td>567595.43</td>\n",
       "      <td>2011</td>\n",
       "      <td>NaN</td>\n",
       "      <td>San Francisco</td>\n",
       "      <td>NaN</td>\n",
       "    </tr>\n",
       "    <tr>\n",
       "      <th>2</th>\n",
       "      <td>GARY JIMENEZ</td>\n",
       "      <td>CAPTAIN III (POLICE DEPARTMENT)</td>\n",
       "      <td>155966.02</td>\n",
       "      <td>245131.88</td>\n",
       "      <td>137811.38</td>\n",
       "      <td>NaN</td>\n",
       "      <td>538909.28</td>\n",
       "      <td>538909.28</td>\n",
       "      <td>2011</td>\n",
       "      <td>NaN</td>\n",
       "      <td>San Francisco</td>\n",
       "      <td>NaN</td>\n",
       "    </tr>\n",
       "    <tr>\n",
       "      <th>3</th>\n",
       "      <td>ALBERT PARDINI</td>\n",
       "      <td>CAPTAIN III (POLICE DEPARTMENT)</td>\n",
       "      <td>212739.13</td>\n",
       "      <td>106088.18</td>\n",
       "      <td>16452.6</td>\n",
       "      <td>NaN</td>\n",
       "      <td>335279.91</td>\n",
       "      <td>335279.91</td>\n",
       "      <td>2011</td>\n",
       "      <td>NaN</td>\n",
       "      <td>San Francisco</td>\n",
       "      <td>NaN</td>\n",
       "    </tr>\n",
       "    <tr>\n",
       "      <th>4</th>\n",
       "      <td>CHRISTOPHER CHONG</td>\n",
       "      <td>WIRE ROPE CABLE MAINTENANCE MECHANIC</td>\n",
       "      <td>77916.0</td>\n",
       "      <td>56120.71</td>\n",
       "      <td>198306.9</td>\n",
       "      <td>NaN</td>\n",
       "      <td>332343.61</td>\n",
       "      <td>332343.61</td>\n",
       "      <td>2011</td>\n",
       "      <td>NaN</td>\n",
       "      <td>San Francisco</td>\n",
       "      <td>NaN</td>\n",
       "    </tr>\n",
       "    <tr>\n",
       "      <th>5</th>\n",
       "      <td>PATRICK GARDNER</td>\n",
       "      <td>DEPUTY CHIEF OF DEPARTMENT,(FIRE DEPARTMENT)</td>\n",
       "      <td>134401.6</td>\n",
       "      <td>9737.0</td>\n",
       "      <td>182234.59</td>\n",
       "      <td>NaN</td>\n",
       "      <td>326373.19</td>\n",
       "      <td>326373.19</td>\n",
       "      <td>2011</td>\n",
       "      <td>NaN</td>\n",
       "      <td>San Francisco</td>\n",
       "      <td>NaN</td>\n",
       "    </tr>\n",
       "  </tbody>\n",
       "</table>\n",
       "</div>"
      ],
      "text/plain": [
       "         EmployeeName                                        JobTitle  \\\n",
       "Id                                                                      \n",
       "1      NATHANIEL FORD  GENERAL MANAGER-METROPOLITAN TRANSIT AUTHORITY   \n",
       "2        GARY JIMENEZ                 CAPTAIN III (POLICE DEPARTMENT)   \n",
       "3      ALBERT PARDINI                 CAPTAIN III (POLICE DEPARTMENT)   \n",
       "4   CHRISTOPHER CHONG            WIRE ROPE CABLE MAINTENANCE MECHANIC   \n",
       "5     PATRICK GARDNER    DEPUTY CHIEF OF DEPARTMENT,(FIRE DEPARTMENT)   \n",
       "\n",
       "      BasePay OvertimePay   OtherPay Benefits   TotalPay  TotalPayBenefits  \\\n",
       "Id                                                                           \n",
       "1   167411.18         0.0  400184.25      NaN  567595.43         567595.43   \n",
       "2   155966.02   245131.88  137811.38      NaN  538909.28         538909.28   \n",
       "3   212739.13   106088.18    16452.6      NaN  335279.91         335279.91   \n",
       "4     77916.0    56120.71   198306.9      NaN  332343.61         332343.61   \n",
       "5    134401.6      9737.0  182234.59      NaN  326373.19         326373.19   \n",
       "\n",
       "    Year  Notes         Agency Status  \n",
       "Id                                     \n",
       "1   2011    NaN  San Francisco    NaN  \n",
       "2   2011    NaN  San Francisco    NaN  \n",
       "3   2011    NaN  San Francisco    NaN  \n",
       "4   2011    NaN  San Francisco    NaN  \n",
       "5   2011    NaN  San Francisco    NaN  "
      ]
     },
     "execution_count": 3,
     "metadata": {},
     "output_type": "execute_result"
    }
   ],
   "source": [
    "data.head()"
   ]
  },
  {
   "cell_type": "code",
   "execution_count": 4,
   "metadata": {},
   "outputs": [
    {
     "name": "stdout",
     "output_type": "stream",
     "text": [
      "<class 'pandas.core.frame.DataFrame'>\n",
      "Int64Index: 148654 entries, 1 to 148654\n",
      "Data columns (total 12 columns):\n",
      "EmployeeName        148654 non-null object\n",
      "JobTitle            148654 non-null object\n",
      "BasePay             148049 non-null object\n",
      "OvertimePay         148654 non-null object\n",
      "OtherPay            148654 non-null object\n",
      "Benefits            112495 non-null object\n",
      "TotalPay            148654 non-null float64\n",
      "TotalPayBenefits    148654 non-null float64\n",
      "Year                148654 non-null int64\n",
      "Notes               0 non-null float64\n",
      "Agency              148654 non-null object\n",
      "Status              38119 non-null object\n",
      "dtypes: float64(3), int64(1), object(8)\n",
      "memory usage: 14.7+ MB\n"
     ]
    }
   ],
   "source": [
    "data.info()"
   ]
  },
  {
   "cell_type": "markdown",
   "metadata": {},
   "source": [
    "## Data treatment"
   ]
  },
  {
   "cell_type": "code",
   "execution_count": 5,
   "metadata": {},
   "outputs": [],
   "source": [
    "def string_to_float(string):\n",
    "    try:\n",
    "        return np.float(string)\n",
    "    except:\n",
    "        return np.nan"
   ]
  },
  {
   "cell_type": "code",
   "execution_count": 6,
   "metadata": {},
   "outputs": [],
   "source": [
    "for column in [\"BasePay\",\"OvertimePay\",\"OtherPay\",\"Benefits\",\"TotalPay\",\"TotalPayBenefits\"]:\n",
    "    data[column] = data[column].apply(lambda x: string_to_float(x))"
   ]
  },
  {
   "cell_type": "code",
   "execution_count": 7,
   "metadata": {},
   "outputs": [
    {
     "name": "stdout",
     "output_type": "stream",
     "text": [
      "<class 'pandas.core.frame.DataFrame'>\n",
      "Int64Index: 148654 entries, 1 to 148654\n",
      "Data columns (total 12 columns):\n",
      "EmployeeName        148654 non-null object\n",
      "JobTitle            148654 non-null object\n",
      "BasePay             148045 non-null float64\n",
      "OvertimePay         148650 non-null float64\n",
      "OtherPay            148650 non-null float64\n",
      "Benefits            112491 non-null float64\n",
      "TotalPay            148654 non-null float64\n",
      "TotalPayBenefits    148654 non-null float64\n",
      "Year                148654 non-null int64\n",
      "Notes               0 non-null float64\n",
      "Agency              148654 non-null object\n",
      "Status              38119 non-null object\n",
      "dtypes: float64(7), int64(1), object(4)\n",
      "memory usage: 14.7+ MB\n"
     ]
    }
   ],
   "source": [
    "data.info()"
   ]
  },
  {
   "cell_type": "markdown",
   "metadata": {},
   "source": [
    "## Data overview:"
   ]
  },
  {
   "cell_type": "code",
   "execution_count": 8,
   "metadata": {},
   "outputs": [
    {
     "data": {
      "text/html": [
       "<div>\n",
       "<style scoped>\n",
       "    .dataframe tbody tr th:only-of-type {\n",
       "        vertical-align: middle;\n",
       "    }\n",
       "\n",
       "    .dataframe tbody tr th {\n",
       "        vertical-align: top;\n",
       "    }\n",
       "\n",
       "    .dataframe thead th {\n",
       "        text-align: right;\n",
       "    }\n",
       "</style>\n",
       "<table border=\"1\" class=\"dataframe\">\n",
       "  <thead>\n",
       "    <tr style=\"text-align: right;\">\n",
       "      <th></th>\n",
       "      <th>BasePay</th>\n",
       "      <th>OvertimePay</th>\n",
       "      <th>OtherPay</th>\n",
       "      <th>Benefits</th>\n",
       "      <th>TotalPay</th>\n",
       "      <th>TotalPayBenefits</th>\n",
       "    </tr>\n",
       "  </thead>\n",
       "  <tbody>\n",
       "    <tr>\n",
       "      <th>count</th>\n",
       "      <td>148045.000000</td>\n",
       "      <td>148650.000000</td>\n",
       "      <td>148650.000000</td>\n",
       "      <td>112491.000000</td>\n",
       "      <td>148654.000000</td>\n",
       "      <td>148654.000000</td>\n",
       "    </tr>\n",
       "    <tr>\n",
       "      <th>mean</th>\n",
       "      <td>66325.448840</td>\n",
       "      <td>5066.059886</td>\n",
       "      <td>3648.767297</td>\n",
       "      <td>25007.893151</td>\n",
       "      <td>74768.321972</td>\n",
       "      <td>93692.554811</td>\n",
       "    </tr>\n",
       "    <tr>\n",
       "      <th>std</th>\n",
       "      <td>42764.635495</td>\n",
       "      <td>11454.380559</td>\n",
       "      <td>8056.601866</td>\n",
       "      <td>15402.215858</td>\n",
       "      <td>50517.005274</td>\n",
       "      <td>62793.533483</td>\n",
       "    </tr>\n",
       "    <tr>\n",
       "      <th>min</th>\n",
       "      <td>-166.010000</td>\n",
       "      <td>-0.010000</td>\n",
       "      <td>-7058.590000</td>\n",
       "      <td>-33.890000</td>\n",
       "      <td>-618.130000</td>\n",
       "      <td>-618.130000</td>\n",
       "    </tr>\n",
       "    <tr>\n",
       "      <th>25%</th>\n",
       "      <td>33588.200000</td>\n",
       "      <td>0.000000</td>\n",
       "      <td>0.000000</td>\n",
       "      <td>11535.395000</td>\n",
       "      <td>36168.995000</td>\n",
       "      <td>44065.650000</td>\n",
       "    </tr>\n",
       "    <tr>\n",
       "      <th>50%</th>\n",
       "      <td>65007.450000</td>\n",
       "      <td>0.000000</td>\n",
       "      <td>811.270000</td>\n",
       "      <td>28628.620000</td>\n",
       "      <td>71426.610000</td>\n",
       "      <td>92404.090000</td>\n",
       "    </tr>\n",
       "    <tr>\n",
       "      <th>75%</th>\n",
       "      <td>94691.050000</td>\n",
       "      <td>4658.175000</td>\n",
       "      <td>4236.065000</td>\n",
       "      <td>35566.855000</td>\n",
       "      <td>105839.135000</td>\n",
       "      <td>132876.450000</td>\n",
       "    </tr>\n",
       "    <tr>\n",
       "      <th>max</th>\n",
       "      <td>319275.010000</td>\n",
       "      <td>245131.880000</td>\n",
       "      <td>400184.250000</td>\n",
       "      <td>96570.660000</td>\n",
       "      <td>567595.430000</td>\n",
       "      <td>567595.430000</td>\n",
       "    </tr>\n",
       "  </tbody>\n",
       "</table>\n",
       "</div>"
      ],
      "text/plain": [
       "             BasePay    OvertimePay       OtherPay       Benefits  \\\n",
       "count  148045.000000  148650.000000  148650.000000  112491.000000   \n",
       "mean    66325.448840    5066.059886    3648.767297   25007.893151   \n",
       "std     42764.635495   11454.380559    8056.601866   15402.215858   \n",
       "min      -166.010000      -0.010000   -7058.590000     -33.890000   \n",
       "25%     33588.200000       0.000000       0.000000   11535.395000   \n",
       "50%     65007.450000       0.000000     811.270000   28628.620000   \n",
       "75%     94691.050000    4658.175000    4236.065000   35566.855000   \n",
       "max    319275.010000  245131.880000  400184.250000   96570.660000   \n",
       "\n",
       "            TotalPay  TotalPayBenefits  \n",
       "count  148654.000000     148654.000000  \n",
       "mean    74768.321972      93692.554811  \n",
       "std     50517.005274      62793.533483  \n",
       "min      -618.130000       -618.130000  \n",
       "25%     36168.995000      44065.650000  \n",
       "50%     71426.610000      92404.090000  \n",
       "75%    105839.135000     132876.450000  \n",
       "max    567595.430000     567595.430000  "
      ]
     },
     "execution_count": 8,
     "metadata": {},
     "output_type": "execute_result"
    }
   ],
   "source": [
    "data.drop([\"Year\",\"Notes\"],axis=1).describe()"
   ]
  },
  {
   "cell_type": "code",
   "execution_count": 9,
   "metadata": {},
   "outputs": [
    {
     "data": {
      "text/plain": [
       "<matplotlib.axes._axes.Axes at 0x200ba0e94a8>"
      ]
     },
     "execution_count": 9,
     "metadata": {},
     "output_type": "execute_result"
    },
    {
     "data": {
      "image/png": "[encoded data removed]",
      "text/plain": [
       "<Figure size 720x360 with 2 Axes>"
      ]
     },
     "metadata": {
      "needs_background": "light"
     },
     "output_type": "display_data"
    }
   ],
   "source": [
    "fig = plt.figure(figsize=(10,5))\n",
    "ax = fig.add_axes([0,0,1,1],title=\"Correlation Heatmap\")\n",
    "sns.heatmap(data=data.drop([\"Year\",\"Notes\"],axis=1).corr(),annot=True,ax=ax)"
   ]
  },
  {
   "cell_type": "markdown",
   "metadata": {},
   "source": [
    "## Data statistics"
   ]
  },
  {
   "cell_type": "code",
   "execution_count": 10,
   "metadata": {},
   "outputs": [
    {
     "name": "stdout",
     "output_type": "stream",
     "text": [
      "There are 2159 unique job titles in this dataset.\n"
     ]
    }
   ],
   "source": [
    "print(\"There are {} unique job titles in this dataset.\".format(data[\"JobTitle\"].nunique()))"
   ]
  },
  {
   "cell_type": "markdown",
   "metadata": {},
   "source": [
    "**The 5 most frequent job titles are:**"
   ]
  },
  {
   "cell_type": "code",
   "execution_count": 11,
   "metadata": {},
   "outputs": [
    {
     "data": {
      "text/plain": [
       "Transit Operator                7036\n",
       "Special Nurse                   4389\n",
       "Registered Nurse                3736\n",
       "Public Svc Aide-Public Works    2518\n",
       "Police Officer 3                2421\n",
       "Name: JobTitle, dtype: int64"
      ]
     },
     "execution_count": 11,
     "metadata": {},
     "output_type": "execute_result"
    }
   ],
   "source": [
    "data[\"JobTitle\"].value_counts().head(5)"
   ]
  },
  {
   "cell_type": "markdown",
   "metadata": {},
   "source": [
    "**The 5 most frequent employee names are:**"
   ]
  },
  {
   "cell_type": "code",
   "execution_count": 12,
   "metadata": {},
   "outputs": [
    {
     "data": {
      "text/plain": [
       "Michael    2070\n",
       "John       1542\n",
       "David      1444\n",
       "James      1233\n",
       "Robert     1206\n",
       "Name: EmployeeName, dtype: int64"
      ]
     },
     "execution_count": 12,
     "metadata": {},
     "output_type": "execute_result"
    }
   ],
   "source": [
    "data[\"EmployeeName\"].apply(lambda x: x.split()[0]).value_counts().head(5)"
   ]
  },
  {
   "cell_type": "markdown",
   "metadata": {},
   "source": [
    "**The highest-paid person with benefits (TotalPayBenefits) is:**"
   ]
  },
  {
   "cell_type": "code",
   "execution_count": 13,
   "metadata": {},
   "outputs": [
    {
     "data": {
      "text/html": [
       "<div>\n",
       "<style scoped>\n",
       "    .dataframe tbody tr th:only-of-type {\n",
       "        vertical-align: middle;\n",
       "    }\n",
       "\n",
       "    .dataframe tbody tr th {\n",
       "        vertical-align: top;\n",
       "    }\n",
       "\n",
       "    .dataframe thead th {\n",
       "        text-align: right;\n",
       "    }\n",
       "</style>\n",
       "<table border=\"1\" class=\"dataframe\">\n",
       "  <thead>\n",
       "    <tr style=\"text-align: right;\">\n",
       "      <th></th>\n",
       "      <th>EmployeeName</th>\n",
       "      <th>JobTitle</th>\n",
       "      <th>BasePay</th>\n",
       "      <th>OvertimePay</th>\n",
       "      <th>OtherPay</th>\n",
       "      <th>Benefits</th>\n",
       "      <th>TotalPay</th>\n",
       "      <th>TotalPayBenefits</th>\n",
       "      <th>Year</th>\n",
       "      <th>Notes</th>\n",
       "      <th>Agency</th>\n",
       "      <th>Status</th>\n",
       "    </tr>\n",
       "  </thead>\n",
       "  <tbody>\n",
       "    <tr>\n",
       "      <th>1</th>\n",
       "      <td>NATHANIEL FORD</td>\n",
       "      <td>GENERAL MANAGER-METROPOLITAN TRANSIT AUTHORITY</td>\n",
       "      <td>167411</td>\n",
       "      <td>0</td>\n",
       "      <td>400184</td>\n",
       "      <td>NaN</td>\n",
       "      <td>567595</td>\n",
       "      <td>567595</td>\n",
       "      <td>2011</td>\n",
       "      <td>NaN</td>\n",
       "      <td>San Francisco</td>\n",
       "      <td>NaN</td>\n",
       "    </tr>\n",
       "  </tbody>\n",
       "</table>\n",
       "</div>"
      ],
      "text/plain": [
       "     EmployeeName                                        JobTitle BasePay  \\\n",
       "1  NATHANIEL FORD  GENERAL MANAGER-METROPOLITAN TRANSIT AUTHORITY  167411   \n",
       "\n",
       "  OvertimePay OtherPay Benefits TotalPay TotalPayBenefits  Year Notes  \\\n",
       "1           0   400184      NaN   567595           567595  2011   NaN   \n",
       "\n",
       "          Agency Status  \n",
       "1  San Francisco    NaN  "
      ]
     },
     "execution_count": 13,
     "metadata": {},
     "output_type": "execute_result"
    }
   ],
   "source": [
    "data.loc[data[\"TotalPayBenefits\"].idxmax()].to_frame().transpose()"
   ]
  },
  {
   "cell_type": "markdown",
   "metadata": {},
   "source": [
    "**The lowest-paid person with benefits (TotalPayBenefits) is:**"
   ]
  },
  {
   "cell_type": "code",
   "execution_count": 14,
   "metadata": {},
   "outputs": [
    {
     "data": {
      "text/html": [
       "<div>\n",
       "<style scoped>\n",
       "    .dataframe tbody tr th:only-of-type {\n",
       "        vertical-align: middle;\n",
       "    }\n",
       "\n",
       "    .dataframe tbody tr th {\n",
       "        vertical-align: top;\n",
       "    }\n",
       "\n",
       "    .dataframe thead th {\n",
       "        text-align: right;\n",
       "    }\n",
       "</style>\n",
       "<table border=\"1\" class=\"dataframe\">\n",
       "  <thead>\n",
       "    <tr style=\"text-align: right;\">\n",
       "      <th></th>\n",
       "      <th>EmployeeName</th>\n",
       "      <th>JobTitle</th>\n",
       "      <th>BasePay</th>\n",
       "      <th>OvertimePay</th>\n",
       "      <th>OtherPay</th>\n",
       "      <th>Benefits</th>\n",
       "      <th>TotalPay</th>\n",
       "      <th>TotalPayBenefits</th>\n",
       "      <th>Year</th>\n",
       "      <th>Notes</th>\n",
       "      <th>Agency</th>\n",
       "      <th>Status</th>\n",
       "    </tr>\n",
       "    <tr>\n",
       "      <th>Id</th>\n",
       "      <th></th>\n",
       "      <th></th>\n",
       "      <th></th>\n",
       "      <th></th>\n",
       "      <th></th>\n",
       "      <th></th>\n",
       "      <th></th>\n",
       "      <th></th>\n",
       "      <th></th>\n",
       "      <th></th>\n",
       "      <th></th>\n",
       "      <th></th>\n",
       "    </tr>\n",
       "  </thead>\n",
       "  <tbody>\n",
       "    <tr>\n",
       "      <th>148654</th>\n",
       "      <td>Joe Lopez</td>\n",
       "      <td>Counselor, Log Cabin Ranch</td>\n",
       "      <td>0.0</td>\n",
       "      <td>0.0</td>\n",
       "      <td>-618.13</td>\n",
       "      <td>0.0</td>\n",
       "      <td>-618.13</td>\n",
       "      <td>-618.13</td>\n",
       "      <td>2014</td>\n",
       "      <td>NaN</td>\n",
       "      <td>San Francisco</td>\n",
       "      <td>PT</td>\n",
       "    </tr>\n",
       "  </tbody>\n",
       "</table>\n",
       "</div>"
      ],
      "text/plain": [
       "       EmployeeName                    JobTitle  BasePay  OvertimePay  \\\n",
       "Id                                                                      \n",
       "148654    Joe Lopez  Counselor, Log Cabin Ranch      0.0          0.0   \n",
       "\n",
       "        OtherPay  Benefits  TotalPay  TotalPayBenefits  Year  Notes  \\\n",
       "Id                                                                    \n",
       "148654   -618.13       0.0   -618.13           -618.13  2014    NaN   \n",
       "\n",
       "               Agency Status  \n",
       "Id                            \n",
       "148654  San Francisco     PT  "
      ]
     },
     "execution_count": 14,
     "metadata": {},
     "output_type": "execute_result"
    }
   ],
   "source": [
    "data.loc[data[\"TotalPayBenefits\"] == data[\"TotalPayBenefits\"].min()]"
   ]
  },
  {
   "cell_type": "markdown",
   "metadata": {},
   "source": [
    "**The amount of job titles possessed by a single person throughout the time period of this dataset is:**"
   ]
  },
  {
   "cell_type": "code",
   "execution_count": 15,
   "metadata": {},
   "outputs": [
    {
     "data": {
      "image/png": "[encoded data removed]",
      "text/plain": [
       "<Figure size 864x360 with 1 Axes>"
      ]
     },
     "metadata": {
      "needs_background": "light"
     },
     "output_type": "display_data"
    }
   ],
   "source": [
    "filtered_results = data.groupby(\"Year\")[\"JobTitle\"].value_counts().apply(lambda group: group if group==1 else np.nan).dropna()\n",
    "years = list(data[\"Year\"].unique())\n",
    "n_unique = [filtered_results[year].count() for year in years]\n",
    "\n",
    "fig = plt.figure(figsize=(12,5))\n",
    "ax = fig.add_axes([0,0,1,1],xticks=range(2011,2015),xlim=(2010.5,2014.5))\n",
    "sns.lineplot(years,n_unique,label=\"Unique Job Titles\")\n",
    "sns.regplot(years,n_unique,label=\"Trend\")\n",
    "ax.legend()\n",
    "\n",
    "del(filtered_results,years,n_unique)"
   ]
  },
  {
   "cell_type": "markdown",
   "metadata": {},
   "source": [
    "**Employees with negative BasePay:**"
   ]
  },
  {
   "cell_type": "code",
   "execution_count": 37,
   "metadata": {},
   "outputs": [
    {
     "data": {
      "text/html": [
       "<div>\n",
       "<style scoped>\n",
       "    .dataframe tbody tr th:only-of-type {\n",
       "        vertical-align: middle;\n",
       "    }\n",
       "\n",
       "    .dataframe tbody tr th {\n",
       "        vertical-align: top;\n",
       "    }\n",
       "\n",
       "    .dataframe thead th {\n",
       "        text-align: right;\n",
       "    }\n",
       "</style>\n",
       "<table border=\"1\" class=\"dataframe\">\n",
       "  <thead>\n",
       "    <tr style=\"text-align: right;\">\n",
       "      <th></th>\n",
       "      <th>EmployeeName</th>\n",
       "      <th>JobTitle</th>\n",
       "      <th>BasePay</th>\n",
       "      <th>OvertimePay</th>\n",
       "      <th>OtherPay</th>\n",
       "      <th>Benefits</th>\n",
       "      <th>TotalPay</th>\n",
       "      <th>TotalPayBenefits</th>\n",
       "      <th>Year</th>\n",
       "      <th>Notes</th>\n",
       "      <th>Agency</th>\n",
       "      <th>Status</th>\n",
       "    </tr>\n",
       "    <tr>\n",
       "      <th>Id</th>\n",
       "      <th></th>\n",
       "      <th></th>\n",
       "      <th></th>\n",
       "      <th></th>\n",
       "      <th></th>\n",
       "      <th></th>\n",
       "      <th></th>\n",
       "      <th></th>\n",
       "      <th></th>\n",
       "      <th></th>\n",
       "      <th></th>\n",
       "      <th></th>\n",
       "    </tr>\n",
       "  </thead>\n",
       "  <tbody>\n",
       "    <tr>\n",
       "      <th>72833</th>\n",
       "      <td>Irwin Sidharta</td>\n",
       "      <td>Junior Clerk</td>\n",
       "      <td>-166.01</td>\n",
       "      <td>249.02</td>\n",
       "      <td>0.0</td>\n",
       "      <td>6.56</td>\n",
       "      <td>83.01</td>\n",
       "      <td>89.57</td>\n",
       "      <td>2012</td>\n",
       "      <td>NaN</td>\n",
       "      <td>San Francisco</td>\n",
       "      <td>NaN</td>\n",
       "    </tr>\n",
       "    <tr>\n",
       "      <th>72866</th>\n",
       "      <td>Robert Scott</td>\n",
       "      <td>Junior Clerk</td>\n",
       "      <td>-121.63</td>\n",
       "      <td>182.70</td>\n",
       "      <td>0.0</td>\n",
       "      <td>5.44</td>\n",
       "      <td>61.07</td>\n",
       "      <td>66.51</td>\n",
       "      <td>2012</td>\n",
       "      <td>NaN</td>\n",
       "      <td>San Francisco</td>\n",
       "      <td>NaN</td>\n",
       "    </tr>\n",
       "    <tr>\n",
       "      <th>72873</th>\n",
       "      <td>Chung Huey Kung</td>\n",
       "      <td>Junior Clerk</td>\n",
       "      <td>-109.22</td>\n",
       "      <td>163.83</td>\n",
       "      <td>0.0</td>\n",
       "      <td>4.32</td>\n",
       "      <td>54.61</td>\n",
       "      <td>58.93</td>\n",
       "      <td>2012</td>\n",
       "      <td>NaN</td>\n",
       "      <td>San Francisco</td>\n",
       "      <td>NaN</td>\n",
       "    </tr>\n",
       "    <tr>\n",
       "      <th>72875</th>\n",
       "      <td>Jordan Li</td>\n",
       "      <td>Junior Clerk</td>\n",
       "      <td>-106.60</td>\n",
       "      <td>159.90</td>\n",
       "      <td>0.0</td>\n",
       "      <td>4.66</td>\n",
       "      <td>53.30</td>\n",
       "      <td>57.96</td>\n",
       "      <td>2012</td>\n",
       "      <td>NaN</td>\n",
       "      <td>San Francisco</td>\n",
       "      <td>NaN</td>\n",
       "    </tr>\n",
       "    <tr>\n",
       "      <th>72879</th>\n",
       "      <td>Richard Jackson</td>\n",
       "      <td>Junior Clerk</td>\n",
       "      <td>-101.88</td>\n",
       "      <td>153.08</td>\n",
       "      <td>0.0</td>\n",
       "      <td>4.55</td>\n",
       "      <td>51.20</td>\n",
       "      <td>55.75</td>\n",
       "      <td>2012</td>\n",
       "      <td>NaN</td>\n",
       "      <td>San Francisco</td>\n",
       "      <td>NaN</td>\n",
       "    </tr>\n",
       "    <tr>\n",
       "      <th>72885</th>\n",
       "      <td>DiMarco McGhee-Stewart</td>\n",
       "      <td>Junior Clerk</td>\n",
       "      <td>-93.14</td>\n",
       "      <td>139.97</td>\n",
       "      <td>0.0</td>\n",
       "      <td>4.17</td>\n",
       "      <td>46.83</td>\n",
       "      <td>51.00</td>\n",
       "      <td>2012</td>\n",
       "      <td>NaN</td>\n",
       "      <td>San Francisco</td>\n",
       "      <td>NaN</td>\n",
       "    </tr>\n",
       "    <tr>\n",
       "      <th>72889</th>\n",
       "      <td>Leopoldo Marasigan</td>\n",
       "      <td>Junior Clerk</td>\n",
       "      <td>-87.38</td>\n",
       "      <td>131.06</td>\n",
       "      <td>0.0</td>\n",
       "      <td>3.89</td>\n",
       "      <td>43.68</td>\n",
       "      <td>47.57</td>\n",
       "      <td>2012</td>\n",
       "      <td>NaN</td>\n",
       "      <td>San Francisco</td>\n",
       "      <td>NaN</td>\n",
       "    </tr>\n",
       "    <tr>\n",
       "      <th>72895</th>\n",
       "      <td>Douglas Avalos</td>\n",
       "      <td>Junior Clerk</td>\n",
       "      <td>-75.67</td>\n",
       "      <td>113.76</td>\n",
       "      <td>0.0</td>\n",
       "      <td>3.39</td>\n",
       "      <td>38.09</td>\n",
       "      <td>41.48</td>\n",
       "      <td>2012</td>\n",
       "      <td>NaN</td>\n",
       "      <td>San Francisco</td>\n",
       "      <td>NaN</td>\n",
       "    </tr>\n",
       "    <tr>\n",
       "      <th>72909</th>\n",
       "      <td>Norma Rodriguez</td>\n",
       "      <td>Junior Clerk</td>\n",
       "      <td>-59.59</td>\n",
       "      <td>89.65</td>\n",
       "      <td>0.0</td>\n",
       "      <td>2.68</td>\n",
       "      <td>30.06</td>\n",
       "      <td>32.74</td>\n",
       "      <td>2012</td>\n",
       "      <td>NaN</td>\n",
       "      <td>San Francisco</td>\n",
       "      <td>NaN</td>\n",
       "    </tr>\n",
       "    <tr>\n",
       "      <th>72921</th>\n",
       "      <td>Charles Williams</td>\n",
       "      <td>Junior Clerk</td>\n",
       "      <td>-30.58</td>\n",
       "      <td>45.87</td>\n",
       "      <td>0.0</td>\n",
       "      <td>1.36</td>\n",
       "      <td>15.29</td>\n",
       "      <td>16.65</td>\n",
       "      <td>2012</td>\n",
       "      <td>NaN</td>\n",
       "      <td>San Francisco</td>\n",
       "      <td>NaN</td>\n",
       "    </tr>\n",
       "    <tr>\n",
       "      <th>72923</th>\n",
       "      <td>John Draper</td>\n",
       "      <td>Clerk</td>\n",
       "      <td>-9.50</td>\n",
       "      <td>14.25</td>\n",
       "      <td>0.0</td>\n",
       "      <td>0.42</td>\n",
       "      <td>4.75</td>\n",
       "      <td>5.17</td>\n",
       "      <td>2012</td>\n",
       "      <td>NaN</td>\n",
       "      <td>San Francisco</td>\n",
       "      <td>NaN</td>\n",
       "    </tr>\n",
       "  </tbody>\n",
       "</table>\n",
       "</div>"
      ],
      "text/plain": [
       "                 EmployeeName      JobTitle  BasePay  OvertimePay  OtherPay  \\\n",
       "Id                                                                            \n",
       "72833          Irwin Sidharta  Junior Clerk  -166.01       249.02       0.0   \n",
       "72866            Robert Scott  Junior Clerk  -121.63       182.70       0.0   \n",
       "72873         Chung Huey Kung  Junior Clerk  -109.22       163.83       0.0   \n",
       "72875               Jordan Li  Junior Clerk  -106.60       159.90       0.0   \n",
       "72879         Richard Jackson  Junior Clerk  -101.88       153.08       0.0   \n",
       "72885  DiMarco McGhee-Stewart  Junior Clerk   -93.14       139.97       0.0   \n",
       "72889      Leopoldo Marasigan  Junior Clerk   -87.38       131.06       0.0   \n",
       "72895          Douglas Avalos  Junior Clerk   -75.67       113.76       0.0   \n",
       "72909         Norma Rodriguez  Junior Clerk   -59.59        89.65       0.0   \n",
       "72921        Charles Williams  Junior Clerk   -30.58        45.87       0.0   \n",
       "72923             John Draper         Clerk    -9.50        14.25       0.0   \n",
       "\n",
       "       Benefits  TotalPay  TotalPayBenefits  Year  Notes         Agency Status  \n",
       "Id                                                                              \n",
       "72833      6.56     83.01             89.57  2012    NaN  San Francisco    NaN  \n",
       "72866      5.44     61.07             66.51  2012    NaN  San Francisco    NaN  \n",
       "72873      4.32     54.61             58.93  2012    NaN  San Francisco    NaN  \n",
       "72875      4.66     53.30             57.96  2012    NaN  San Francisco    NaN  \n",
       "72879      4.55     51.20             55.75  2012    NaN  San Francisco    NaN  \n",
       "72885      4.17     46.83             51.00  2012    NaN  San Francisco    NaN  \n",
       "72889      3.89     43.68             47.57  2012    NaN  San Francisco    NaN  \n",
       "72895      3.39     38.09             41.48  2012    NaN  San Francisco    NaN  \n",
       "72909      2.68     30.06             32.74  2012    NaN  San Francisco    NaN  \n",
       "72921      1.36     15.29             16.65  2012    NaN  San Francisco    NaN  \n",
       "72923      0.42      4.75              5.17  2012    NaN  San Francisco    NaN  "
      ]
     },
     "execution_count": 37,
     "metadata": {},
     "output_type": "execute_result"
    }
   ],
   "source": [
    "data.loc[data[\"BasePay\"]<0]"
   ]
  },
  {
   "cell_type": "code",
   "execution_count": 38,
   "metadata": {},
   "outputs": [
    {
     "name": "stdout",
     "output_type": "stream",
     "text": [
      "Total: 11\n"
     ]
    }
   ],
   "source": [
    "print(\"Total: {}\".format(len(data.loc[data[\"BasePay\"]<0])))"
   ]
  },
  {
   "cell_type": "markdown",
   "metadata": {},
   "source": [
    "**Base salary vs. Density of Employees:**"
   ]
  },
  {
   "cell_type": "code",
   "execution_count": 46,
   "metadata": {},
   "outputs": [
    {
     "data": {
      "text/plain": [
       "<matplotlib.axes._axes.Axes at 0x200bb114dd8>"
      ]
     },
     "execution_count": 46,
     "metadata": {},
     "output_type": "execute_result"
    },
    {
     "data": {
      "image/png": "[encoded data removed]",
      "text/plain": [
       "<Figure size 864x360 with 1 Axes>"
      ]
     },
     "metadata": {
      "needs_background": "light"
     },
     "output_type": "display_data"
    }
   ],
   "source": [
    "fig = plt.figure(figsize=(12,5))\n",
    "ax  = fig.add_axes([0,0,1,1],xlabel=\"Base Salary (US$)\",yticks=[],ylabel=\"Density of Employees\")\n",
    "\n",
    "\n",
    "sns.kdeplot(data.loc[data[\"Year\"]==2011][\"BasePay\"].dropna(),shade=True,label=\"2011\",alpha=.4)\n",
    "sns.kdeplot(data.loc[data[\"Year\"]==2012][\"BasePay\"].dropna(),shade=True,label=\"2012\",alpha=.4)\n",
    "sns.kdeplot(data.loc[data[\"Year\"]==2013][\"BasePay\"].dropna(),shade=True,label=\"2013\",alpha=.4)\n",
    "sns.kdeplot(data.loc[data[\"Year\"]==2014][\"BasePay\"].dropna(),shade=True,label=\"2014\",alpha=.4)"
   ]
  }
 ],
 "metadata": {
  "kernelspec": {
   "display_name": "Python 3",
   "language": "python",
   "name": "python3"
  },
  "language_info": {
   "codemirror_mode": {
    "name": "ipython",
    "version": 3
   },
   "file_extension": ".py",
   "mimetype": "text/x-python",
   "name": "python",
   "nbconvert_exporter": "python",
   "pygments_lexer": "ipython3",
   "version": "3.7.3"
  }
 },
 "nbformat": 4,
 "nbformat_minor": 2
}
